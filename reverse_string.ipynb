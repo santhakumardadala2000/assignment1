{
 "cells": [
  {
   "cell_type": "code",
   "execution_count": null,
   "id": "38902493",
   "metadata": {},
   "outputs": [],
   "source": [
    "word=input()\n",
    "res=list(word)\n",
    "key=len(res)\n",
    "for i in range(key-1,-1,-1):\n",
    "    ref.append(res[i])\n",
    "m=\"\".join(ref)\n",
    "print(m)"
   ]
  },
  {
   "cell_type": "code",
   "execution_count": 5,
   "id": "b70af6a5",
   "metadata": {},
   "outputs": [
    {
     "name": "stdout",
     "output_type": "stream",
     "text": [
      "santha\n",
      "ahtnas\n"
     ]
    }
   ],
   "source": [
    "word=input()\n",
    "res=list(word)\n",
    "ref=res[::-1]\n",
    "key=\"\".join(ref)\n",
    "print(key)"
   ]
  },
  {
   "cell_type": "code",
   "execution_count": null,
   "id": "d6eacf99",
   "metadata": {},
   "outputs": [],
   "source": []
  }
 ],
 "metadata": {
  "kernelspec": {
   "display_name": "Python 3 (ipykernel)",
   "language": "python",
   "name": "python3"
  },
  "language_info": {
   "codemirror_mode": {
    "name": "ipython",
    "version": 3
   },
   "file_extension": ".py",
   "mimetype": "text/x-python",
   "name": "python",
   "nbconvert_exporter": "python",
   "pygments_lexer": "ipython3",
   "version": "3.10.1"
  }
 },
 "nbformat": 4,
 "nbformat_minor": 5
}
